{
 "cells": [
  {
   "cell_type": "code",
   "execution_count": 13,
   "metadata": {},
   "outputs": [],
   "source": [
    "import math"
   ]
  },
  {
   "cell_type": "code",
   "execution_count": 14,
   "metadata": {},
   "outputs": [],
   "source": [
    "def activationFunction(n):\n",
    "\n",
    "    #TODO - Application 1 - Step 4b - Define the binary step function as activation function\n",
    "    if n >= 0:\n",
    "        return 1\n",
    "    else:\n",
    "        return 0\n",
    "\n",
    "    # sigmoid as activation function\n",
    "#    return 1 / (1 + math.exp(-n))"
   ]
  },
  {
   "cell_type": "code",
   "execution_count": 15,
   "metadata": {},
   "outputs": [],
   "source": [
    "def forwardPropagation(p, weights, bias):\n",
    "\n",
    "    # TODO - Application 1 - Step 4a - Multiply weights with the input vector (p) and add the bias   =>  n\n",
    "    n = sum(p[i] * weights[i] for i in range(len(p))) + bias\n",
    "\n",
    "    # TODO - Application 1 - Step 4c - Pass the result to the activation function  =>  a\n",
    "    a = activationFunction(n)\n",
    "\n",
    "    return a"
   ]
  },
  {
   "cell_type": "code",
   "execution_count": 16,
   "metadata": {},
   "outputs": [],
   "source": [
    "def main():\n",
    "\n",
    "    #Application 1 - Train a single neuron perceptron in order to predict the output of an AND gate.\n",
    "    #The network should receive as input two values (0 or 1) and should predict the target output\n",
    "    \n",
    "    #Input data\n",
    "    P = [\n",
    "            [0, 0],\n",
    "            [0, 1],\n",
    "            [1, 0],\n",
    "            [1, 1]\n",
    "        ]\n",
    "\n",
    "    #Labels\n",
    "    t = [0, 0, 0, 1]\n",
    "\n",
    "    #TODO - Application 1 - Step 2 - Initialize the weights with zero  (weights)\n",
    "    weights = [0, 0]\n",
    "\n",
    "    #TODO - Application 1 - Step 2 - Initialize the bias with zero  (bias)\n",
    "    bias = 0\n",
    "\n",
    "    #TODO - Application 1 - Step 3 - Set the number of training steps  (epochs)\n",
    "    epochs = 100\n",
    "\n",
    "    #TODO - Application 1 - Step 4 - Perform the neuron training for multiple epochs\n",
    "    for ep in range(epochs):\n",
    "        for i in range(len(t)):\n",
    "\n",
    "            #TODO - Application 1 - Step 4 - Call the forwardPropagation method\n",
    "            a = forwardPropagation(P[i], weights, bias)\n",
    "\n",
    "            #TODO - Application 1 - Step 5 - Compute the prediction error (error)\n",
    "            error = t[i] - a\n",
    "\n",
    "            #TODO - Application 1 - Step 6 - Update the weights\n",
    "            weights[0] = weights[0] + error * P[i][0]\n",
    "            weights[1] = weights[1] + error * P[i][1]\n",
    "\n",
    "            #TODO - Application 1 - Step 7 - Update the bias\n",
    "            bias = bias + error\n",
    "\n",
    "    #TODO - Application 1 - Step 8 - Print weights and bias\n",
    "    print(\"Final weights:\", weights)\n",
    "    print(\"Final bias:\", bias)\n",
    "\n",
    "    # TODO - Application 1 - Step 9 - Display the results\n",
    "    print(\"Predicted vs Actual:\")\n",
    "    for p in P:\n",
    "        predicted = forwardPropagation(p, weights, bias)\n",
    "        print(\"Input:\", p, \"Predicted:\", predicted, \"Actual:\", t[P.index(p)])\n",
    "\n",
    "    return"
   ]
  },
  {
   "cell_type": "code",
   "execution_count": 17,
   "metadata": {},
   "outputs": [
    {
     "name": "stdout",
     "output_type": "stream",
     "text": [
      "Final weights: [5.92841512703933, 5.8711073021902]\n",
      "Final bias: -8.922822364626157\n",
      "Predicted vs Actual:\n",
      "Input: [0, 0] Predicted: 0.0001332936902044043 Actual: 0\n",
      "Input: [0, 1] Predicted: 0.04514348706995768 Actual: 0\n",
      "Input: [1, 0] Predicted: 0.04767917598657016 Actual: 0\n",
      "Input: [1, 1] Predicted: 0.9466825456490171 Actual: 1\n"
     ]
    }
   ],
   "source": [
    "if __name__ == \"__main__\":\n",
    "    main()"
   ]
  },
  {
   "cell_type": "code",
   "execution_count": null,
   "metadata": {},
   "outputs": [],
   "source": []
  }
 ],
 "metadata": {
  "kernelspec": {
   "display_name": "Python 3 (ipykernel)",
   "language": "python",
   "name": "python3"
  },
  "language_info": {
   "codemirror_mode": {
    "name": "ipython",
    "version": 3
   },
   "file_extension": ".py",
   "mimetype": "text/x-python",
   "name": "python",
   "nbconvert_exporter": "python",
   "pygments_lexer": "ipython3",
   "version": "3.11.8"
  }
 },
 "nbformat": 4,
 "nbformat_minor": 4
}
