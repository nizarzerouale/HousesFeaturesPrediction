{
 "cells": [
  {
   "cell_type": "code",
   "execution_count": 25,
   "metadata": {},
   "outputs": [],
   "source": [
    "import numpy as np"
   ]
  },
  {
   "cell_type": "code",
   "execution_count": 65,
   "metadata": {},
   "outputs": [],
   "source": [
    "def tanh(n):\n",
    "\n",
    "    # Define the tanh function as activation function\n",
    "    return np.tanh(n)"
   ]
  },
  {
   "cell_type": "code",
   "execution_count": 66,
   "metadata": {},
   "outputs": [],
   "source": [
    "def tanhDerivative(n):\n",
    "    return (1+n)*(1-n)"
   ]
  },
  {
   "cell_type": "code",
   "execution_count": 67,
   "metadata": {},
   "outputs": [],
   "source": [
    "def forwardPropagationLayer(p, weights, biases):\n",
    "    a = None  # the layer output\n",
    "\n",
    "    # Multiply weights with the input vector (p) and add the bias   =>  n\n",
    "    n = np.dot(p, weights) + biases\n",
    "\n",
    "    # Pass the result to the activation function  =>  a\n",
    "    a = tanh(n)\n",
    "    return a\n"
   ]
  },
  {
   "cell_type": "code",
   "execution_count": 68,
   "metadata": {},
   "outputs": [],
   "source": [
    "def computeError(labels, predicted_output):\n",
    "    N = labels.shape[0]\n",
    "    return (1/(2*N)) * np.sum(np.square(labels - predicted_output))"
   ]
  },
  {
   "cell_type": "code",
   "execution_count": 69,
   "metadata": {},
   "outputs": [],
   "source": [
    "def main():\n",
    "\n",
    "    #Application 2 - Train a ANN in order to predict the output of an XOR gate.\n",
    "    #The network should receive as input two values (0 or 1) and should predict the target output\n",
    "\n",
    "    #Input data\n",
    "    points = np.array([\n",
    "            [0, 0],\n",
    "            [0, 1],\n",
    "            [1, 0],\n",
    "            [1, 1]\n",
    "        ])\n",
    "\n",
    "    #Labels\n",
    "    labels = np.array([[0], [1], [1], [0]])\n",
    "\n",
    "    # Initialize the weights and biases with random values\n",
    "    inputSize = 2\n",
    "    noNeuronsLayer1 = 2\n",
    "    noNeuronsLayer2 = 1\n",
    "    weightsLayer1 = np.random.uniform(size=(inputSize, noNeuronsLayer1))\n",
    "    weightsLayer2 = np.random.uniform(size=(noNeuronsLayer1, noNeuronsLayer2))\n",
    "    biasLayer1 = np.random.uniform(size=(1, noNeuronsLayer1))\n",
    "    biasLayer2 = np.random.uniform(size=(1, noNeuronsLayer2))\n",
    "    noEpochs = 5000\n",
    "    learningRate = 0.3\n",
    "    error_threshold = 0.01\n",
    "\n",
    "    # Train the network for noEpochs\n",
    "    for epoch in range(noEpochs):\n",
    "\n",
    "        # Forward Propagation\n",
    "        hidden_layer_output = forwardPropagationLayer(points, weightsLayer1, biasLayer1)\n",
    "        predicted_output = forwardPropagationLayer(hidden_layer_output, weightsLayer2, biasLayer2)\n",
    "\n",
    "        # Backpropagation\n",
    "        bkProp_error = labels - predicted_output\n",
    "        d_predicted_output = bkProp_error * tanhDerivative(predicted_output)\n",
    "        error_hidden_layer = d_predicted_output.dot(weightsLayer2.T)\n",
    "        d_hidden_layer = error_hidden_layer * tanhDerivative(hidden_layer_output)\n",
    "\n",
    "        # Updating Weights and Biases\n",
    "        weightsLayer2 = weightsLayer2 + hidden_layer_output.T.dot(d_predicted_output) * learningRate\n",
    "        biasLayer2 = biasLayer2 + np.sum(d_predicted_output, axis=0, keepdims=True) * learningRate\n",
    "        weightsLayer1 = weightsLayer1 + points.T.dot(d_hidden_layer) * learningRate\n",
    "        biasLayer1 = biasLayer1 + np.sum(d_hidden_layer, axis=0, keepdims=True) * learningRate\n",
    "        \n",
    "        # Stop when error < threshold\n",
    "        error = abs(computeError(labels, predicted_output))\n",
    "        if error < error_threshold:\n",
    "            print(\"noEpochs = {}\".format(epoch + 1) )\n",
    "            print(\"error = {}\".format(error))\n",
    "            break\n",
    "        \n",
    "        noEpochs += 1000  # Increase epochs if error threshold not met\n",
    "\n",
    "    # Print weights and bias\n",
    "    print(\"weightsLayer1 = {}\".format(weightsLayer1))\n",
    "    print(\"biasesLayer1 = {}\".format(biasLayer1))\n",
    "    print(\"weightsLayer2 = {}\".format(weightsLayer2))\n",
    "    print(\"biasLayer2 = {}\".format(biasLayer2))\n",
    "    #print(\"bkProp_error = {}\".format(bkProp_error))\n",
    "    #print(\"error_hidden_layer = {}\".format(error_hidden_layer))\n",
    "\n",
    "    # Display the results\n",
    "    for i in range(len(labels)):\n",
    "        outL1 = forwardPropagationLayer(points[i], weightsLayer1, biasLayer1)\n",
    "        outL2 = forwardPropagationLayer(outL1, weightsLayer2, biasLayer2)\n",
    "        print(\"Input = {} - Predict = {} - Label = {}\".format(points[i], outL2, labels[i]))\n",
    "        \n",
    "    print(labels)\n",
    "    print(predicted_output)\n"
   ]
  },
  {
   "cell_type": "code",
   "execution_count": 70,
   "metadata": {},
   "outputs": [
    {
     "name": "stdout",
     "output_type": "stream",
     "text": [
      "noEpochs = 143\n",
      "error = 0.009551101335981775\n",
      "weightsLayer1 = [[1.8836683  0.79176699]\n",
      " [1.92459744 0.79974864]]\n",
      "biasesLayer1 = [[-0.47866342 -0.99498435]]\n",
      "weightsLayer2 = [[ 1.55809355]\n",
      " [-1.69994727]]\n",
      "biasLayer2 = [[-0.55228921]]\n",
      "Input = [0 0] - Predict = [[0.04513498]] - Label = [0]\n",
      "Input = [0 1] - Predict = [[0.82419639]] - Label = [1]\n",
      "Input = [1 0] - Predict = [[0.82415357]] - Label = [1]\n",
      "Input = [1 1] - Predict = [[0.09279404]] - Label = [0]\n",
      "[[0]\n",
      " [1]\n",
      " [1]\n",
      " [0]]\n",
      "[[0.04698338]\n",
      " [0.82007916]\n",
      " [0.82004802]\n",
      " [0.09719644]]\n"
     ]
    }
   ],
   "source": [
    "if __name__ == \"__main__\":\n",
    "    main()"
   ]
  },
  {
   "cell_type": "code",
   "execution_count": null,
   "metadata": {},
   "outputs": [],
   "source": []
  }
 ],
 "metadata": {
  "kernelspec": {
   "display_name": "Python 3 (ipykernel)",
   "language": "python",
   "name": "python3"
  },
  "language_info": {
   "codemirror_mode": {
    "name": "ipython",
    "version": 3
   },
   "file_extension": ".py",
   "mimetype": "text/x-python",
   "name": "python",
   "nbconvert_exporter": "python",
   "pygments_lexer": "ipython3",
   "version": "3.11.8"
  }
 },
 "nbformat": 4,
 "nbformat_minor": 4
}
