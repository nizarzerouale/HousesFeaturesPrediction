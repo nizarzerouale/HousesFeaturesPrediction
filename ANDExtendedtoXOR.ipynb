{
 "cells": [
  {
   "cell_type": "code",
   "execution_count": 2,
   "id": "431de75c-4723-4c1d-b68c-9063a1ed0e81",
   "metadata": {},
   "outputs": [
    {
     "name": "stdout",
     "output_type": "stream",
     "text": [
      "1/1 [==============================] - 0s 12ms/step\n",
      "1/1 [==============================] - 0s 13ms/step\n",
      "AND Gate Predictions:\n",
      "Input: [0 0], Predicted: [1]\n",
      "Input: [0 1], Predicted: [1]\n",
      "Input: [1 0], Predicted: [1]\n",
      "Input: [1 1], Predicted: [1]\n",
      "\n",
      "XOR Gate Predictions:\n",
      "Input: [0 0], Predicted: [1]\n",
      "Input: [0 1], Predicted: [1]\n",
      "Input: [1 0], Predicted: [0]\n",
      "Input: [1 1], Predicted: [0]\n"
     ]
    }
   ],
   "source": [
    "import numpy as np\n",
    "from tensorflow.keras.models import Sequential\n",
    "from tensorflow.keras.layers import Dense\n",
    "from tensorflow.keras.optimizers.legacy import Adam\n",
    "\n",
    "def build_and_train_model(P, t, epochs=100):\n",
    "    # Define the model architecture\n",
    "    model = Sequential([\n",
    "        Dense(units=2, input_dim=2, activation='sigmoid'),  # Hidden layer with 2 neurons\n",
    "        Dense(units=1, activation='sigmoid')  # Output layer with 1 neuron\n",
    "    ])\n",
    "\n",
    "    # Compile the model\n",
    "    model.compile(optimizer=Adam(), loss='binary_crossentropy', metrics=['accuracy'])\n",
    "\n",
    "    # Train the model\n",
    "    model.fit(P, t, epochs=epochs, verbose=0)\n",
    "\n",
    "    # Return the trained model\n",
    "    return model\n",
    "\n",
    "def predict_with_model(model, P):\n",
    "    # Make predictions\n",
    "    predictions = model.predict(P)\n",
    "    # Convert probabilities to binary predictions\n",
    "    binary_predictions = np.round(predictions).astype(int)\n",
    "    return binary_predictions\n",
    "\n",
    "def main():\n",
    "    # AND gate input and target output\n",
    "    P_and = np.array([\n",
    "        [0, 0],\n",
    "        [0, 1],\n",
    "        [1, 0],\n",
    "        [1, 1]\n",
    "    ])\n",
    "    t_and = np.array([[0], [0], [0], [1]])\n",
    "\n",
    "    # XOR gate input and target output\n",
    "    P_xor = np.array([\n",
    "        [0, 0],\n",
    "        [0, 1],\n",
    "        [1, 0],\n",
    "        [1, 1]\n",
    "    ])\n",
    "    t_xor = np.array([[0], [1], [1], [0]])\n",
    "\n",
    "    # Train models\n",
    "    model_and = build_and_train_model(P_and, t_and)\n",
    "    model_xor = build_and_train_model(P_xor, t_xor)\n",
    "\n",
    "    # Predict with the models\n",
    "    predictions_and = predict_with_model(model_and, P_and)\n",
    "    predictions_xor = predict_with_model(model_xor, P_xor)\n",
    "\n",
    "    print(\"AND Gate Predictions:\")\n",
    "    for p, pred in zip(P_and, predictions_and):\n",
    "        print(f\"Input: {p}, Predicted: {pred}\")\n",
    "\n",
    "    print(\"\\nXOR Gate Predictions:\")\n",
    "    for p, pred in zip(P_xor, predictions_xor):\n",
    "        print(f\"Input: {p}, Predicted: {pred}\")\n",
    "\n",
    "if __name__ == \"__main__\":\n",
    "    main()\n"
   ]
  },
  {
   "cell_type": "code",
   "execution_count": null,
   "id": "7cdb60d4-68f0-4a83-b89c-d8aa121e8deb",
   "metadata": {},
   "outputs": [],
   "source": []
  }
 ],
 "metadata": {
  "kernelspec": {
   "display_name": "Python 3 (ipykernel)",
   "language": "python",
   "name": "python3"
  },
  "language_info": {
   "codemirror_mode": {
    "name": "ipython",
    "version": 3
   },
   "file_extension": ".py",
   "mimetype": "text/x-python",
   "name": "python",
   "nbconvert_exporter": "python",
   "pygments_lexer": "ipython3",
   "version": "3.11.8"
  }
 },
 "nbformat": 4,
 "nbformat_minor": 5
}
